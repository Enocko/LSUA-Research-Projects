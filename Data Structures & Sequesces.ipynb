{
 "cells": [
  {
   "cell_type": "markdown",
   "id": "7c9a3fde-240b-48c7-a2fb-590d0739c13a",
   "metadata": {},
   "source": [
    "# TUPLE"
   ]
  },
  {
   "cell_type": "code",
   "execution_count": 1,
   "id": "5e5158b1-f7d3-4a0b-8811-09959327c930",
   "metadata": {},
   "outputs": [
    {
     "data": {
      "text/plain": [
       "(4, 5, 6)"
      ]
     },
     "execution_count": 1,
     "metadata": {},
     "output_type": "execute_result"
    }
   ],
   "source": [
    "tup = (4,5,6)\n",
    "tup"
   ]
  },
  {
   "cell_type": "code",
   "execution_count": 3,
   "id": "21c33cb9-fe81-4bb2-8d08-2ec01271cbd6",
   "metadata": {},
   "outputs": [
    {
     "data": {
      "text/plain": [
       "tuple"
      ]
     },
     "execution_count": 3,
     "metadata": {},
     "output_type": "execute_result"
    }
   ],
   "source": [
    "tuple([4, 0, 2])\n",
    "tuple"
   ]
  },
  {
   "cell_type": "code",
   "execution_count": 5,
   "id": "edf237e2-1d03-49d1-b752-18d32c732775",
   "metadata": {},
   "outputs": [
    {
     "data": {
      "text/plain": [
       "('S', 't', 'r', 'i', 'n', 'g')"
      ]
     },
     "execution_count": 5,
     "metadata": {},
     "output_type": "execute_result"
    }
   ],
   "source": [
    "tup = tuple('String')\n",
    "tup"
   ]
  },
  {
   "cell_type": "code",
   "execution_count": 7,
   "id": "f79130fe-823d-4878-a15d-638308e556e3",
   "metadata": {},
   "outputs": [
    {
     "data": {
      "text/plain": [
       "('foo', [1, 2, 3], True)"
      ]
     },
     "execution_count": 7,
     "metadata": {},
     "output_type": "execute_result"
    }
   ],
   "source": [
    "tup = tuple(['foo', [1, 2], True])\n",
    "tup[1].append(3)\n",
    "tup"
   ]
  },
  {
   "cell_type": "markdown",
   "id": "569868c2-b612-4b34-8f8c-290cee59539e",
   "metadata": {},
   "source": [
    "# Unpacking tuples"
   ]
  },
  {
   "cell_type": "code",
   "execution_count": 9,
   "id": "06fc6b06-691f-448b-9cc9-0e97ad46217c",
   "metadata": {},
   "outputs": [
    {
     "data": {
      "text/plain": [
       "4"
      ]
     },
     "execution_count": 9,
     "metadata": {},
     "output_type": "execute_result"
    }
   ],
   "source": [
    "tup = (4, 5, 6)\n",
    "a, b, c = tup\n",
    "a"
   ]
  },
  {
   "cell_type": "code",
   "execution_count": 11,
   "id": "5706df09-889f-4798-b43c-8b2a1845ccef",
   "metadata": {},
   "outputs": [
    {
     "name": "stdout",
     "output_type": "stream",
     "text": [
      "a=1, b=2, c=3\n",
      "a=4, b=5, c=6\n",
      "a=7, b=8, c=9\n"
     ]
    }
   ],
   "source": [
    "seq = [(1, 2, 3), (4, 5, 6), (7, 8, 9)]\n",
    "for a, b, c in seq:\n",
    "    print(f'a={a}, b={b}, c={c}')"
   ]
  },
  {
   "cell_type": "code",
   "execution_count": 13,
   "id": "9a8e468a-c2aa-4c40-8231-fa4175252a14",
   "metadata": {},
   "outputs": [
    {
     "data": {
      "text/plain": [
       "4"
      ]
     },
     "execution_count": 13,
     "metadata": {},
     "output_type": "execute_result"
    }
   ],
   "source": [
    "a = (1, 2, 2, 2, 3, 4, 2)\n",
    "a.count(2)  #Counts the number of 2's in a"
   ]
  },
  {
   "cell_type": "markdown",
   "id": "65e8639f-420c-463b-bb54-caad11db7384",
   "metadata": {},
   "source": [
    "# List"
   ]
  },
  {
   "cell_type": "code",
   "execution_count": 14,
   "id": "1540b726-143c-430b-a4c2-4ffe3c43b178",
   "metadata": {},
   "outputs": [
    {
     "data": {
      "text/plain": [
       "[2, 3, 7, None]"
      ]
     },
     "execution_count": 14,
     "metadata": {},
     "output_type": "execute_result"
    }
   ],
   "source": [
    "a_list = [2, 3, 7, None]\n",
    "a_list"
   ]
  },
  {
   "cell_type": "code",
   "execution_count": 15,
   "id": "3e65a8d3-d865-44df-99e7-3e9bde825b1d",
   "metadata": {},
   "outputs": [
    {
     "data": {
      "text/plain": [
       "['foo', 'bar', 'baz']"
      ]
     },
     "execution_count": 15,
     "metadata": {},
     "output_type": "execute_result"
    }
   ],
   "source": [
    "tup = (\"foo\", \"bar\", \"baz\")\n",
    "b_list = list(tup)\n",
    "b_list"
   ]
  },
  {
   "cell_type": "code",
   "execution_count": 16,
   "id": "f901ad0b-fca6-4290-a446-2f260c83f4af",
   "metadata": {},
   "outputs": [
    {
     "data": {
      "text/plain": [
       "range(0, 10)"
      ]
     },
     "execution_count": 16,
     "metadata": {},
     "output_type": "execute_result"
    }
   ],
   "source": [
    "gen = range(10)\n",
    "gen"
   ]
  },
  {
   "cell_type": "code",
   "execution_count": 18,
   "id": "9ab283fe-9f44-4e50-9884-550278e74ebc",
   "metadata": {},
   "outputs": [
    {
     "data": {
      "text/plain": [
       "[0, 1, 2, 3, 4, 5, 6, 7, 8, 9]"
      ]
     },
     "execution_count": 18,
     "metadata": {},
     "output_type": "execute_result"
    }
   ],
   "source": [
    "list(gen)"
   ]
  },
  {
   "cell_type": "markdown",
   "id": "c0116691-5923-4611-91b2-9b9a3d8d88c8",
   "metadata": {},
   "source": [
    "# Adding and removing elements\n"
   ]
  },
  {
   "cell_type": "code",
   "execution_count": 21,
   "id": "43c2eb8a-5610-451b-a431-00104ca1adf2",
   "metadata": {},
   "outputs": [
    {
     "data": {
      "text/plain": [
       "['foo', 'peekaboo', 'baz', 'dwarf']"
      ]
     },
     "execution_count": 21,
     "metadata": {},
     "output_type": "execute_result"
    }
   ],
   "source": [
    "b = ['foo', 'peekaboo', 'baz']\n",
    "b.append('dwarf')\n",
    "b"
   ]
  },
  {
   "cell_type": "code",
   "execution_count": 22,
   "id": "3b166478-1f1f-4948-84ea-66064f80e9d7",
   "metadata": {},
   "outputs": [
    {
     "data": {
      "text/plain": [
       "['foo', 'game', 'peekaboo', 'baz', 'dwarf']"
      ]
     },
     "execution_count": 22,
     "metadata": {},
     "output_type": "execute_result"
    }
   ],
   "source": [
    "b.insert(1, 'game')  #inserts a value into the list b at the index 1\n",
    "b"
   ]
  },
  {
   "cell_type": "markdown",
   "id": "f38eaa59-6415-4627-a9dc-05cbd453e1ab",
   "metadata": {},
   "source": [
    "# Removing Elements"
   ]
  },
  {
   "cell_type": "code",
   "execution_count": 24,
   "id": "d976bb9d-63b4-4039-802d-d4f3e4e963a3",
   "metadata": {},
   "outputs": [
    {
     "data": {
      "text/plain": [
       "'baz'"
      ]
     },
     "execution_count": 24,
     "metadata": {},
     "output_type": "execute_result"
    }
   ],
   "source": [
    "b.pop(2)  #pops out an item at index 2"
   ]
  },
  {
   "cell_type": "code",
   "execution_count": 25,
   "id": "de3ce7aa-31da-4ac6-b20a-f98978d18e9c",
   "metadata": {},
   "outputs": [
    {
     "data": {
      "text/plain": [
       "['foo', 'game', 'dwarf']"
      ]
     },
     "execution_count": 25,
     "metadata": {},
     "output_type": "execute_result"
    }
   ],
   "source": [
    "b"
   ]
  },
  {
   "cell_type": "markdown",
   "id": "3d8eb0ec-c61d-4281-baba-ae3330ca7316",
   "metadata": {},
   "source": [
    "# Concatenating and combining lists\n"
   ]
  },
  {
   "cell_type": "code",
   "execution_count": 26,
   "id": "9c87bb24-630e-4b68-93fc-a23578e9e3fe",
   "metadata": {},
   "outputs": [
    {
     "data": {
      "text/plain": [
       "[4, None, 'foo', 7, 8, (2, 3)]"
      ]
     },
     "execution_count": 26,
     "metadata": {},
     "output_type": "execute_result"
    }
   ],
   "source": [
    "[4, None, \"foo\"] + [7, 8, (2, 3)]"
   ]
  },
  {
   "cell_type": "code",
   "execution_count": 30,
   "id": "066da19e-8a3d-410a-8a4c-0dc86e86d9d4",
   "metadata": {},
   "outputs": [
    {
     "data": {
      "text/plain": [
       "[4, None, 'foo', 7, 8, (2, 3)]"
      ]
     },
     "execution_count": 30,
     "metadata": {},
     "output_type": "execute_result"
    }
   ],
   "source": [
    "x = [4, None, \"foo\"]\n",
    "x.extend([7,8,(2,3)])\n",
    "x"
   ]
  },
  {
   "cell_type": "markdown",
   "id": "9ee90be7-30e2-49c0-aaac-71a8ff489b4e",
   "metadata": {},
   "source": [
    "# Sorting"
   ]
  },
  {
   "cell_type": "code",
   "execution_count": 32,
   "id": "4beb006f-29b7-4993-bf65-b90b61678eed",
   "metadata": {},
   "outputs": [
    {
     "data": {
      "text/plain": [
       "[1, 2, 3, 5, 7]"
      ]
     },
     "execution_count": 32,
     "metadata": {},
     "output_type": "execute_result"
    }
   ],
   "source": [
    "a = [7, 2, 5, 1, 3]\n",
    "a.sort()\n",
    "a"
   ]
  },
  {
   "cell_type": "code",
   "execution_count": 34,
   "id": "ffaaf3e9-a455-4ba4-886e-7c534714e94d",
   "metadata": {},
   "outputs": [
    {
     "data": {
      "text/plain": [
       "['He', 'saw', 'six', 'small', 'foxes']"
      ]
     },
     "execution_count": 34,
     "metadata": {},
     "output_type": "execute_result"
    }
   ],
   "source": [
    "b = [\"saw\", \"small\", \"He\", \"foxes\", \"six\"]\n",
    "b.sort(key=len)\n",
    "b"
   ]
  },
  {
   "cell_type": "markdown",
   "id": "e37344b5-6405-4bf0-80a6-cb0ec7dc4046",
   "metadata": {},
   "source": [
    "# Slicing"
   ]
  },
  {
   "cell_type": "code",
   "execution_count": 36,
   "id": "abff8e54-ca8f-4578-9b67-3a1d4a799ec8",
   "metadata": {},
   "outputs": [
    {
     "data": {
      "text/plain": [
       "[2, 3, 7, 5]"
      ]
     },
     "execution_count": 36,
     "metadata": {},
     "output_type": "execute_result"
    }
   ],
   "source": [
    "seq = [7, 2, 3, 7, 5, 6, 0, 1]\n",
    "seq[1:5]"
   ]
  },
  {
   "cell_type": "code",
   "execution_count": 37,
   "id": "a2b9b2e2-5d06-47fb-9386-22fc086d20fe",
   "metadata": {},
   "outputs": [
    {
     "data": {
      "text/plain": [
       "[7, 3, 5, 0]"
      ]
     },
     "execution_count": 37,
     "metadata": {},
     "output_type": "execute_result"
    }
   ],
   "source": [
    "seq[::2]"
   ]
  },
  {
   "cell_type": "markdown",
   "id": "56ec79b8-ed73-490e-8c15-3736ea148556",
   "metadata": {},
   "source": [
    "# Dictionary"
   ]
  },
  {
   "cell_type": "code",
   "execution_count": 39,
   "id": "c6cec992-cc57-44e4-80b8-97e0aa92f431",
   "metadata": {},
   "outputs": [
    {
     "data": {
      "text/plain": [
       "{'a': 'some value', 'b': [1, 2, 3, 4]}"
      ]
     },
     "execution_count": 39,
     "metadata": {},
     "output_type": "execute_result"
    }
   ],
   "source": [
    "d1 = {\"a\": \"some value\", \"b\": [1, 2, 3, 4]}\n",
    "d1"
   ]
  },
  {
   "cell_type": "code",
   "execution_count": 41,
   "id": "3dcd0ec5-6015-4273-8a8d-6f48bce2b705",
   "metadata": {},
   "outputs": [
    {
     "data": {
      "text/plain": [
       "{'a': 'some value', 'b': [1, 2, 3, 4], 7: 'an integer'}"
      ]
     },
     "execution_count": 41,
     "metadata": {},
     "output_type": "execute_result"
    }
   ],
   "source": [
    "d1[7] = \"an integer\"\n",
    "d1"
   ]
  },
  {
   "cell_type": "code",
   "execution_count": 43,
   "id": "0707c7a7-f924-41dc-a9e3-f7c27b36093e",
   "metadata": {},
   "outputs": [
    {
     "data": {
      "text/plain": [
       "{'a': 'some value', 'b': [1, 2, 3, 4], 7: 'an integer', 5: 'some value'}"
      ]
     },
     "execution_count": 43,
     "metadata": {},
     "output_type": "execute_result"
    }
   ],
   "source": [
    "d1[5] = \"some value\"\n",
    "d1"
   ]
  },
  {
   "cell_type": "code",
   "execution_count": 44,
   "id": "e2a3d0a7-a347-4deb-82b8-e300d4e27791",
   "metadata": {},
   "outputs": [
    {
     "data": {
      "text/plain": [
       "['a', 'b', 7, 5]"
      ]
     },
     "execution_count": 44,
     "metadata": {},
     "output_type": "execute_result"
    }
   ],
   "source": [
    "list(d1.keys())   # returns the keys of the dictionary d1 as a list"
   ]
  },
  {
   "cell_type": "code",
   "execution_count": 48,
   "id": "7cc1e267-cba1-4a4a-83d5-b3151e296b22",
   "metadata": {},
   "outputs": [
    {
     "data": {
      "text/plain": [
       "['some value', [1, 2, 3, 4], 'an integer', 'some value']"
      ]
     },
     "execution_count": 48,
     "metadata": {},
     "output_type": "execute_result"
    }
   ],
   "source": [
    "list(d1.values())     # returns the values of the dictionary d1 as a list"
   ]
  },
  {
   "cell_type": "code",
   "execution_count": 51,
   "id": "7e957ae2-4df8-4d36-9d5f-d48a25eb8dde",
   "metadata": {},
   "outputs": [
    {
     "data": {
      "text/plain": [
       "{0: 4, 1: 3, 2: 2, 3: 1, 4: 0}"
      ]
     },
     "execution_count": 51,
     "metadata": {},
     "output_type": "execute_result"
    }
   ],
   "source": [
    "tuples = zip(range(5), reversed(range(5)))\n",
    "dict(tuples)   # converts a tuples into a dictionary"
   ]
  },
  {
   "cell_type": "markdown",
   "id": "783a0d2a-d02e-4d24-a94e-8892a6f452ce",
   "metadata": {},
   "source": [
    "# Set"
   ]
  },
  {
   "cell_type": "code",
   "execution_count": 53,
   "id": "9a7ef04d-fe83-4af4-b04b-23a0b474b101",
   "metadata": {},
   "outputs": [
    {
     "data": {
      "text/plain": [
       "{1, 2, 3}"
      ]
     },
     "execution_count": 53,
     "metadata": {},
     "output_type": "execute_result"
    }
   ],
   "source": [
    "set([2, 2, 2, 1, 3, 3])"
   ]
  },
  {
   "cell_type": "code",
   "execution_count": 54,
   "id": "e513f788-b738-4133-b35b-f6875f4fc766",
   "metadata": {},
   "outputs": [
    {
     "data": {
      "text/plain": [
       "{1, 2, 3, 4, 5, 6, 7, 8}"
      ]
     },
     "execution_count": 54,
     "metadata": {},
     "output_type": "execute_result"
    }
   ],
   "source": [
    "a = {1, 2, 3, 4, 5}\n",
    "b = {3, 4, 5, 6, 7, 8}\n",
    "a.union(b)"
   ]
  },
  {
   "cell_type": "code",
   "execution_count": 56,
   "id": "0ddd5676-956a-4ec2-98e2-fdda511894bd",
   "metadata": {},
   "outputs": [
    {
     "data": {
      "text/plain": [
       "{1, 2, 3, 4, 5, 6, 7, 8}"
      ]
     },
     "execution_count": 56,
     "metadata": {},
     "output_type": "execute_result"
    }
   ],
   "source": [
    "a | b       # same as above"
   ]
  },
  {
   "cell_type": "code",
   "execution_count": 58,
   "id": "7b2b24eb-aef6-4a1e-bc8c-80bbb14cbfc8",
   "metadata": {},
   "outputs": [
    {
     "data": {
      "text/plain": [
       "{3, 4, 5}"
      ]
     },
     "execution_count": 58,
     "metadata": {},
     "output_type": "execute_result"
    }
   ],
   "source": [
    "a.intersection(b)  # returns item in both a and b"
   ]
  },
  {
   "cell_type": "code",
   "execution_count": 59,
   "id": "01bd0892-0044-4828-8251-2369e89b07fb",
   "metadata": {},
   "outputs": [
    {
     "data": {
      "text/plain": [
       "{3, 4, 5}"
      ]
     },
     "execution_count": 59,
     "metadata": {},
     "output_type": "execute_result"
    }
   ],
   "source": [
    "a & b"
   ]
  },
  {
   "cell_type": "code",
   "execution_count": 61,
   "id": "78d312c6-03dd-4003-b992-503952919027",
   "metadata": {},
   "outputs": [
    {
     "data": {
      "text/plain": [
       "{(1, 2, 3, 4)}"
      ]
     },
     "execution_count": 61,
     "metadata": {},
     "output_type": "execute_result"
    }
   ],
   "source": [
    "my_data = [1, 2, 3, 4]\n",
    "my_set = {tuple(my_data)}\n",
    "my_set"
   ]
  },
  {
   "cell_type": "markdown",
   "id": "99bb0cca-42d6-4d53-8452-6684d7594d8f",
   "metadata": {},
   "source": [
    "# sorted"
   ]
  },
  {
   "cell_type": "code",
   "execution_count": 62,
   "id": "bef40ef5-1d29-463a-bcbf-d60534ec2768",
   "metadata": {},
   "outputs": [
    {
     "data": {
      "text/plain": [
       "[0, 1, 2, 2, 3, 6, 7]"
      ]
     },
     "execution_count": 62,
     "metadata": {},
     "output_type": "execute_result"
    }
   ],
   "source": [
    "sorted([7, 1, 2, 6, 0, 3, 2])   # returns a new sorted list from the elements of any sequence"
   ]
  },
  {
   "cell_type": "markdown",
   "id": "3ba0f801-15f5-48d8-b901-bd8dc0530a12",
   "metadata": {},
   "source": [
    "# Zip"
   ]
  },
  {
   "cell_type": "code",
   "execution_count": 66,
   "id": "0f5ce7b5-8fa4-445f-906e-5a7a26102991",
   "metadata": {},
   "outputs": [
    {
     "data": {
      "text/plain": [
       "[('foo', 'one'), ('bar', 'two'), ('baz', 'three')]"
      ]
     },
     "execution_count": 66,
     "metadata": {},
     "output_type": "execute_result"
    }
   ],
   "source": [
    "seq1 = [\"foo\", \"bar\", \"baz\"]\n",
    "seq2 = [\"one\", \"two\", \"three\"]\n",
    "zipped = zip(seq1, seq2)\n",
    "list(zipped)"
   ]
  },
  {
   "cell_type": "markdown",
   "id": "eeaa6195-630e-447d-821c-b5da7bcb48c2",
   "metadata": {},
   "source": [
    "# Nested list comprehensions\n"
   ]
  },
  {
   "cell_type": "code",
   "execution_count": 67,
   "id": "660bd852-bc14-4ad8-9328-ff6d16c669a5",
   "metadata": {},
   "outputs": [
    {
     "data": {
      "text/plain": [
       "['Maria', 'Natalia']"
      ]
     },
     "execution_count": 67,
     "metadata": {},
     "output_type": "execute_result"
    }
   ],
   "source": [
    "all_data = [[\"John\", \"Emily\", \"Michael\", \"Mary\", \"Steven\"],\n",
    "            [\"Maria\", \"Juan\", \"Javier\", \"Natalia\", \"Pilar\"]]\n",
    "\n",
    "res = []\n",
    "for names in all_data:\n",
    "    k = [name for name in names if name.count(\"a\") >= 2]\n",
    "    res.extend(k)\n",
    "res"
   ]
  },
  {
   "cell_type": "markdown",
   "id": "d34e0ee2-cefa-40a1-9dab-df1c007575a6",
   "metadata": {},
   "source": [
    "# Functions"
   ]
  },
  {
   "cell_type": "code",
   "execution_count": 68,
   "id": "1300bab4-2882-4828-89be-4d1945724b1a",
   "metadata": {},
   "outputs": [
    {
     "data": {
      "text/plain": [
       "3"
      ]
     },
     "execution_count": 68,
     "metadata": {},
     "output_type": "execute_result"
    }
   ],
   "source": [
    "def my_function(x, y):\n",
    "    return x + y\n",
    "my_function(1, 2)"
   ]
  },
  {
   "cell_type": "code",
   "execution_count": 69,
   "id": "adc2bb32-fd25-4461-b881-02b263afc9a1",
   "metadata": {},
   "outputs": [
    {
     "data": {
      "text/plain": [
       "0.06363636363636363"
      ]
     },
     "execution_count": 69,
     "metadata": {},
     "output_type": "execute_result"
    }
   ],
   "source": [
    "def my_function2(x, y, z=1.5):\n",
    "    if z > 1:\n",
    "        return z * (x + y)\n",
    "    else:\n",
    "        return z / (x + y)\n",
    "\n",
    "my_function2(5, 6, z=0.7)"
   ]
  },
  {
   "cell_type": "code",
   "execution_count": 70,
   "id": "2e02d3ed-002c-4d97-bee3-058c6dd8b9ee",
   "metadata": {},
   "outputs": [
    {
     "data": {
      "text/plain": [
       "45.0"
      ]
     },
     "execution_count": 70,
     "metadata": {},
     "output_type": "execute_result"
    }
   ],
   "source": [
    "my_function2(10, 20)"
   ]
  },
  {
   "cell_type": "markdown",
   "id": "67b80c8a-3feb-41dc-9b6d-b383ee4602a8",
   "metadata": {},
   "source": [
    "# Namespaces, Scope, and Local Functions\n"
   ]
  },
  {
   "cell_type": "code",
   "execution_count": 77,
   "id": "75f1a87e-e9ac-4123-8eb9-0934af1f0674",
   "metadata": {},
   "outputs": [
    {
     "data": {
      "text/plain": [
       "[0, 1, 2, 3, 4]"
      ]
     },
     "execution_count": 77,
     "metadata": {},
     "output_type": "execute_result"
    }
   ],
   "source": [
    "a = []\n",
    "def func():\n",
    "    for i in range(5):\n",
    "        a.append(i)\n",
    "func()\n",
    "a"
   ]
  },
  {
   "cell_type": "code",
   "execution_count": 80,
   "id": "7f4b3792-6a34-497c-8d1d-fae612710701",
   "metadata": {},
   "outputs": [
    {
     "data": {
      "text/plain": [
       "{'a': 5, 'b': 6, 'c': 7}"
      ]
     },
     "execution_count": 80,
     "metadata": {},
     "output_type": "execute_result"
    }
   ],
   "source": [
    "def f():\n",
    "    a = 5\n",
    "    b = 6\n",
    "    c = 7\n",
    "    return {\"a\" : a, \"b\" : b, \"c\" : c}\n",
    "\n",
    "f()"
   ]
  },
  {
   "cell_type": "code",
   "execution_count": 81,
   "id": "8a9d8072-352e-44ab-972b-3e2a99a78d44",
   "metadata": {},
   "outputs": [
    {
     "data": {
      "text/plain": [
       "['Alabama',\n",
       " 'Georgia',\n",
       " 'Georgia',\n",
       " 'Georgia',\n",
       " 'Florida',\n",
       " 'South   Carolina',\n",
       " 'West Virginia']"
      ]
     },
     "execution_count": 81,
     "metadata": {},
     "output_type": "execute_result"
    }
   ],
   "source": [
    "states = [\"   Alabama \", \"Georgia!\", \"Georgia\", \"georgia\", \"FlOrIda\", \n",
    "          \"south   carolina##\", \"West virginia?\"]\n",
    "import re\n",
    "\n",
    "def clean_strings(strings):\n",
    "    result = []\n",
    "    for value in strings:\n",
    "        value = value.strip()\n",
    "        value = re.sub(\"[!#?]\", \"\", value)\n",
    "        value = value.title()\n",
    "        result.append(value)\n",
    "    return result\n",
    "\n",
    "clean_strings(states)"
   ]
  },
  {
   "cell_type": "code",
   "execution_count": 82,
   "id": "592b3f8e-29ec-4e30-9ea4-d0bab232bed1",
   "metadata": {},
   "outputs": [
    {
     "data": {
      "text/plain": [
       "{0: 0, 1: 1, 2: 4, 3: 9, 4: 16}"
      ]
     },
     "execution_count": 82,
     "metadata": {},
     "output_type": "execute_result"
    }
   ],
   "source": [
    "dict((i, i ** 2) for i in range(5))"
   ]
  },
  {
   "cell_type": "markdown",
   "id": "6de85ac2-a436-429b-9bb9-0390d21275f4",
   "metadata": {},
   "source": [
    "# Error Handling"
   ]
  },
  {
   "cell_type": "code",
   "execution_count": 83,
   "id": "2bb5e525-03ea-4b10-9b80-ae6ad2fb0c4a",
   "metadata": {},
   "outputs": [
    {
     "data": {
      "text/plain": [
       "1.2345"
      ]
     },
     "execution_count": 83,
     "metadata": {},
     "output_type": "execute_result"
    }
   ],
   "source": [
    "def attempt_float(x):\n",
    "    try:\n",
    "        return float(x)\n",
    "    except:\n",
    "        return x\n",
    "attempt_float(\"1.2345\")"
   ]
  },
  {
   "cell_type": "code",
   "execution_count": 84,
   "id": "48ed4e40-d3aa-4cc4-8bbe-69ce892de398",
   "metadata": {},
   "outputs": [
    {
     "data": {
      "text/plain": [
       "'something'"
      ]
     },
     "execution_count": 84,
     "metadata": {},
     "output_type": "execute_result"
    }
   ],
   "source": [
    "attempt_float(\"something\")"
   ]
  },
  {
   "cell_type": "markdown",
   "id": "c7cdfa70-8743-4454-94c6-c60678a3b20c",
   "metadata": {},
   "source": [
    "# 3.3 Files and the Operating System"
   ]
  },
  {
   "cell_type": "code",
   "execution_count": 87,
   "id": "06ac152f-43fd-4ee6-81fc-cea1ef3fa085",
   "metadata": {},
   "outputs": [
    {
     "ename": "FileNotFoundError",
     "evalue": "[Errno 2] No such file or directory: 'examples/segismundo.txt'",
     "output_type": "error",
     "traceback": [
      "\u001b[0;31m---------------------------------------------------------------------------\u001b[0m",
      "\u001b[0;31mFileNotFoundError\u001b[0m                         Traceback (most recent call last)",
      "Cell \u001b[0;32mIn[87], line 3\u001b[0m\n\u001b[1;32m      1\u001b[0m path \u001b[38;5;241m=\u001b[39m \u001b[38;5;124m\"\u001b[39m\u001b[38;5;124mexamples/segismundo.txt\u001b[39m\u001b[38;5;124m\"\u001b[39m\n\u001b[0;32m----> 3\u001b[0m f \u001b[38;5;241m=\u001b[39m \u001b[38;5;28mopen\u001b[39m(path, encoding\u001b[38;5;241m=\u001b[39m\u001b[38;5;124m\"\u001b[39m\u001b[38;5;124mutf-8\u001b[39m\u001b[38;5;124m\"\u001b[39m)\n\u001b[1;32m      4\u001b[0m lines \u001b[38;5;241m=\u001b[39m [x\u001b[38;5;241m.\u001b[39mrstrip() \u001b[38;5;28;01mfor\u001b[39;00m x \u001b[38;5;129;01min\u001b[39;00m \u001b[38;5;28mopen\u001b[39m(path, encoding\u001b[38;5;241m=\u001b[39m\u001b[38;5;124m\"\u001b[39m\u001b[38;5;124mutf-8\u001b[39m\u001b[38;5;124m\"\u001b[39m)]\n\u001b[1;32m      5\u001b[0m lines\n",
      "File \u001b[0;32m/opt/anaconda3/lib/python3.12/site-packages/IPython/core/interactiveshell.py:324\u001b[0m, in \u001b[0;36m_modified_open\u001b[0;34m(file, *args, **kwargs)\u001b[0m\n\u001b[1;32m    317\u001b[0m \u001b[38;5;28;01mif\u001b[39;00m file \u001b[38;5;129;01min\u001b[39;00m {\u001b[38;5;241m0\u001b[39m, \u001b[38;5;241m1\u001b[39m, \u001b[38;5;241m2\u001b[39m}:\n\u001b[1;32m    318\u001b[0m     \u001b[38;5;28;01mraise\u001b[39;00m \u001b[38;5;167;01mValueError\u001b[39;00m(\n\u001b[1;32m    319\u001b[0m         \u001b[38;5;124mf\u001b[39m\u001b[38;5;124m\"\u001b[39m\u001b[38;5;124mIPython won\u001b[39m\u001b[38;5;124m'\u001b[39m\u001b[38;5;124mt let you open fd=\u001b[39m\u001b[38;5;132;01m{\u001b[39;00mfile\u001b[38;5;132;01m}\u001b[39;00m\u001b[38;5;124m by default \u001b[39m\u001b[38;5;124m\"\u001b[39m\n\u001b[1;32m    320\u001b[0m         \u001b[38;5;124m\"\u001b[39m\u001b[38;5;124mas it is likely to crash IPython. If you know what you are doing, \u001b[39m\u001b[38;5;124m\"\u001b[39m\n\u001b[1;32m    321\u001b[0m         \u001b[38;5;124m\"\u001b[39m\u001b[38;5;124myou can use builtins\u001b[39m\u001b[38;5;124m'\u001b[39m\u001b[38;5;124m open.\u001b[39m\u001b[38;5;124m\"\u001b[39m\n\u001b[1;32m    322\u001b[0m     )\n\u001b[0;32m--> 324\u001b[0m \u001b[38;5;28;01mreturn\u001b[39;00m io_open(file, \u001b[38;5;241m*\u001b[39margs, \u001b[38;5;241m*\u001b[39m\u001b[38;5;241m*\u001b[39mkwargs)\n",
      "\u001b[0;31mFileNotFoundError\u001b[0m: [Errno 2] No such file or directory: 'examples/segismundo.txt'"
     ]
    }
   ],
   "source": [
    "path = \"examples/segismundo.txt\"\n",
    "\n",
    "f = open(path, encoding=\"utf-8\")\n",
    "lines = [x.rstrip() for x in open(path, encoding=\"utf-8\")]\n",
    "lines"
   ]
  },
  {
   "cell_type": "code",
   "execution_count": null,
   "id": "46a9a8c8-2219-488f-b668-a19b6e3ba6c6",
   "metadata": {},
   "outputs": [],
   "source": []
  }
 ],
 "metadata": {
  "kernelspec": {
   "display_name": "Python 3 (ipykernel)",
   "language": "python",
   "name": "python3"
  },
  "language_info": {
   "codemirror_mode": {
    "name": "ipython",
    "version": 3
   },
   "file_extension": ".py",
   "mimetype": "text/x-python",
   "name": "python",
   "nbconvert_exporter": "python",
   "pygments_lexer": "ipython3",
   "version": "3.12.7"
  }
 },
 "nbformat": 4,
 "nbformat_minor": 5
}
