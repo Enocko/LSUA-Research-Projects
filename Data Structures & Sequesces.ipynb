{
 "cells": [
  {
   "cell_type": "markdown",
   "id": "7c9a3fde-240b-48c7-a2fb-590d0739c13a",
   "metadata": {},
   "source": [
    "# TUPLE"
   ]
  },
  {
   "cell_type": "code",
   "execution_count": 99,
   "id": "5e5158b1-f7d3-4a0b-8811-09959327c930",
   "metadata": {},
   "outputs": [
    {
     "data": {
      "text/plain": [
       "(4, 5, 6)"
      ]
     },
     "execution_count": 99,
     "metadata": {},
     "output_type": "execute_result"
    }
   ],
   "source": [
    "tup = (4,5,6)\n",
    "tup"
   ]
  },
  {
   "cell_type": "code",
   "execution_count": 100,
   "id": "21c33cb9-fe81-4bb2-8d08-2ec01271cbd6",
   "metadata": {},
   "outputs": [
    {
     "data": {
      "text/plain": [
       "tuple"
      ]
     },
     "execution_count": 100,
     "metadata": {},
     "output_type": "execute_result"
    }
   ],
   "source": [
    "tuple([4, 0, 2])\n",
    "tuple"
   ]
  },
  {
   "cell_type": "code",
   "execution_count": 101,
   "id": "edf237e2-1d03-49d1-b752-18d32c732775",
   "metadata": {},
   "outputs": [
    {
     "data": {
      "text/plain": [
       "('S', 't', 'r', 'i', 'n', 'g')"
      ]
     },
     "execution_count": 101,
     "metadata": {},
     "output_type": "execute_result"
    }
   ],
   "source": [
    "tup = tuple('String')\n",
    "tup"
   ]
  },
  {
   "cell_type": "code",
   "execution_count": 102,
   "id": "f79130fe-823d-4878-a15d-638308e556e3",
   "metadata": {},
   "outputs": [
    {
     "data": {
      "text/plain": [
       "('foo', [1, 2, 3], True)"
      ]
     },
     "execution_count": 102,
     "metadata": {},
     "output_type": "execute_result"
    }
   ],
   "source": [
    "tup = tuple(['foo', [1, 2], True])\n",
    "tup[1].append(3)\n",
    "tup"
   ]
  },
  {
   "cell_type": "markdown",
   "id": "569868c2-b612-4b34-8f8c-290cee59539e",
   "metadata": {},
   "source": [
    "# Unpacking tuples"
   ]
  },
  {
   "cell_type": "code",
   "execution_count": 103,
   "id": "06fc6b06-691f-448b-9cc9-0e97ad46217c",
   "metadata": {},
   "outputs": [
    {
     "data": {
      "text/plain": [
       "4"
      ]
     },
     "execution_count": 103,
     "metadata": {},
     "output_type": "execute_result"
    }
   ],
   "source": [
    "tup = (4, 5, 6)\n",
    "a, b, c = tup\n",
    "a"
   ]
  },
  {
   "cell_type": "code",
   "execution_count": 104,
   "id": "5706df09-889f-4798-b43c-8b2a1845ccef",
   "metadata": {},
   "outputs": [
    {
     "name": "stdout",
     "output_type": "stream",
     "text": [
      "a=1, b=2, c=3\n",
      "a=4, b=5, c=6\n",
      "a=7, b=8, c=9\n"
     ]
    }
   ],
   "source": [
    "seq = [(1, 2, 3), (4, 5, 6), (7, 8, 9)]\n",
    "for a, b, c in seq:\n",
    "    print(f'a={a}, b={b}, c={c}')"
   ]
  },
  {
   "cell_type": "code",
   "execution_count": 105,
   "id": "9a8e468a-c2aa-4c40-8231-fa4175252a14",
   "metadata": {},
   "outputs": [
    {
     "data": {
      "text/plain": [
       "4"
      ]
     },
     "execution_count": 105,
     "metadata": {},
     "output_type": "execute_result"
    }
   ],
   "source": [
    "a = (1, 2, 2, 2, 3, 4, 2)\n",
    "a.count(2)  #Counts the number of 2's in a"
   ]
  },
  {
   "cell_type": "markdown",
   "id": "65e8639f-420c-463b-bb54-caad11db7384",
   "metadata": {},
   "source": [
    "# List"
   ]
  },
  {
   "cell_type": "code",
   "execution_count": 106,
   "id": "1540b726-143c-430b-a4c2-4ffe3c43b178",
   "metadata": {},
   "outputs": [
    {
     "data": {
      "text/plain": [
       "[2, 3, 7, None]"
      ]
     },
     "execution_count": 106,
     "metadata": {},
     "output_type": "execute_result"
    }
   ],
   "source": [
    "a_list = [2, 3, 7, None]\n",
    "a_list"
   ]
  },
  {
   "cell_type": "code",
   "execution_count": 107,
   "id": "3e65a8d3-d865-44df-99e7-3e9bde825b1d",
   "metadata": {},
   "outputs": [
    {
     "data": {
      "text/plain": [
       "['foo', 'bar', 'baz']"
      ]
     },
     "execution_count": 107,
     "metadata": {},
     "output_type": "execute_result"
    }
   ],
   "source": [
    "tup = (\"foo\", \"bar\", \"baz\")\n",
    "b_list = list(tup)\n",
    "b_list"
   ]
  },
  {
   "cell_type": "code",
   "execution_count": 108,
   "id": "f901ad0b-fca6-4290-a446-2f260c83f4af",
   "metadata": {},
   "outputs": [
    {
     "data": {
      "text/plain": [
       "range(0, 10)"
      ]
     },
     "execution_count": 108,
     "metadata": {},
     "output_type": "execute_result"
    }
   ],
   "source": [
    "gen = range(10)\n",
    "gen"
   ]
  },
  {
   "cell_type": "code",
   "execution_count": 109,
   "id": "9ab283fe-9f44-4e50-9884-550278e74ebc",
   "metadata": {},
   "outputs": [
    {
     "data": {
      "text/plain": [
       "[0, 1, 2, 3, 4, 5, 6, 7, 8, 9]"
      ]
     },
     "execution_count": 109,
     "metadata": {},
     "output_type": "execute_result"
    }
   ],
   "source": [
    "list(gen)"
   ]
  },
  {
   "cell_type": "markdown",
   "id": "c0116691-5923-4611-91b2-9b9a3d8d88c8",
   "metadata": {},
   "source": [
    "# Adding and removing elements\n"
   ]
  },
  {
   "cell_type": "code",
   "execution_count": 110,
   "id": "43c2eb8a-5610-451b-a431-00104ca1adf2",
   "metadata": {},
   "outputs": [
    {
     "data": {
      "text/plain": [
       "['foo', 'peekaboo', 'baz', 'dwarf']"
      ]
     },
     "execution_count": 110,
     "metadata": {},
     "output_type": "execute_result"
    }
   ],
   "source": [
    "b = ['foo', 'peekaboo', 'baz']\n",
    "b.append('dwarf')\n",
    "b"
   ]
  },
  {
   "cell_type": "code",
   "execution_count": 111,
   "id": "3b166478-1f1f-4948-84ea-66064f80e9d7",
   "metadata": {},
   "outputs": [
    {
     "data": {
      "text/plain": [
       "['foo', 'game', 'peekaboo', 'baz', 'dwarf']"
      ]
     },
     "execution_count": 111,
     "metadata": {},
     "output_type": "execute_result"
    }
   ],
   "source": [
    "b.insert(1, 'game')  #inserts a value into the list b at the index 1\n",
    "b"
   ]
  },
  {
   "cell_type": "markdown",
   "id": "f38eaa59-6415-4627-a9dc-05cbd453e1ab",
   "metadata": {},
   "source": [
    "# Removing Elements"
   ]
  },
  {
   "cell_type": "code",
   "execution_count": 112,
   "id": "d976bb9d-63b4-4039-802d-d4f3e4e963a3",
   "metadata": {},
   "outputs": [
    {
     "data": {
      "text/plain": [
       "'peekaboo'"
      ]
     },
     "execution_count": 112,
     "metadata": {},
     "output_type": "execute_result"
    }
   ],
   "source": [
    "b.pop(2)  #pops out an item at index 2"
   ]
  },
  {
   "cell_type": "code",
   "execution_count": 113,
   "id": "de3ce7aa-31da-4ac6-b20a-f98978d18e9c",
   "metadata": {},
   "outputs": [
    {
     "data": {
      "text/plain": [
       "['foo', 'game', 'baz', 'dwarf']"
      ]
     },
     "execution_count": 113,
     "metadata": {},
     "output_type": "execute_result"
    }
   ],
   "source": [
    "b"
   ]
  },
  {
   "cell_type": "markdown",
   "id": "3d8eb0ec-c61d-4281-baba-ae3330ca7316",
   "metadata": {},
   "source": [
    "# Concatenating and combining lists\n"
   ]
  },
  {
   "cell_type": "code",
   "execution_count": 114,
   "id": "9c87bb24-630e-4b68-93fc-a23578e9e3fe",
   "metadata": {},
   "outputs": [
    {
     "data": {
      "text/plain": [
       "[4, None, 'foo', 7, 8, (2, 3)]"
      ]
     },
     "execution_count": 114,
     "metadata": {},
     "output_type": "execute_result"
    }
   ],
   "source": [
    "[4, None, \"foo\"] + [7, 8, (2, 3)]"
   ]
  },
  {
   "cell_type": "code",
   "execution_count": 115,
   "id": "066da19e-8a3d-410a-8a4c-0dc86e86d9d4",
   "metadata": {},
   "outputs": [
    {
     "data": {
      "text/plain": [
       "[4, None, 'foo', 7, 8, (2, 3)]"
      ]
     },
     "execution_count": 115,
     "metadata": {},
     "output_type": "execute_result"
    }
   ],
   "source": [
    "x = [4, None, \"foo\"]\n",
    "x.extend([7,8,(2,3)])\n",
    "x"
   ]
  },
  {
   "cell_type": "markdown",
   "id": "9ee90be7-30e2-49c0-aaac-71a8ff489b4e",
   "metadata": {},
   "source": [
    "# Sorting"
   ]
  },
  {
   "cell_type": "code",
   "execution_count": 116,
   "id": "4beb006f-29b7-4993-bf65-b90b61678eed",
   "metadata": {},
   "outputs": [
    {
     "data": {
      "text/plain": [
       "[1, 2, 3, 5, 7]"
      ]
     },
     "execution_count": 116,
     "metadata": {},
     "output_type": "execute_result"
    }
   ],
   "source": [
    "a = [7, 2, 5, 1, 3]\n",
    "a.sort()\n",
    "a"
   ]
  },
  {
   "cell_type": "code",
   "execution_count": 117,
   "id": "ffaaf3e9-a455-4ba4-886e-7c534714e94d",
   "metadata": {},
   "outputs": [
    {
     "data": {
      "text/plain": [
       "['He', 'saw', 'six', 'small', 'foxes']"
      ]
     },
     "execution_count": 117,
     "metadata": {},
     "output_type": "execute_result"
    }
   ],
   "source": [
    "b = [\"saw\", \"small\", \"He\", \"foxes\", \"six\"]\n",
    "b.sort(key=len)\n",
    "b"
   ]
  },
  {
   "cell_type": "markdown",
   "id": "e37344b5-6405-4bf0-80a6-cb0ec7dc4046",
   "metadata": {},
   "source": [
    "# Slicing"
   ]
  },
  {
   "cell_type": "code",
   "execution_count": 118,
   "id": "abff8e54-ca8f-4578-9b67-3a1d4a799ec8",
   "metadata": {},
   "outputs": [
    {
     "data": {
      "text/plain": [
       "[2, 3, 7, 5]"
      ]
     },
     "execution_count": 118,
     "metadata": {},
     "output_type": "execute_result"
    }
   ],
   "source": [
    "seq = [7, 2, 3, 7, 5, 6, 0, 1]\n",
    "seq[1:5]"
   ]
  },
  {
   "cell_type": "code",
   "execution_count": 119,
   "id": "a2b9b2e2-5d06-47fb-9386-22fc086d20fe",
   "metadata": {},
   "outputs": [
    {
     "data": {
      "text/plain": [
       "[7, 3, 5, 0]"
      ]
     },
     "execution_count": 119,
     "metadata": {},
     "output_type": "execute_result"
    }
   ],
   "source": [
    "seq[::2]"
   ]
  },
  {
   "cell_type": "markdown",
   "id": "56ec79b8-ed73-490e-8c15-3736ea148556",
   "metadata": {},
   "source": [
    "# Dictionary"
   ]
  },
  {
   "cell_type": "code",
   "execution_count": 120,
   "id": "c6cec992-cc57-44e4-80b8-97e0aa92f431",
   "metadata": {},
   "outputs": [
    {
     "data": {
      "text/plain": [
       "{'a': 'some value', 'b': [1, 2, 3, 4]}"
      ]
     },
     "execution_count": 120,
     "metadata": {},
     "output_type": "execute_result"
    }
   ],
   "source": [
    "d1 = {\"a\": \"some value\", \"b\": [1, 2, 3, 4]}\n",
    "d1"
   ]
  },
  {
   "cell_type": "code",
   "execution_count": 121,
   "id": "3dcd0ec5-6015-4273-8a8d-6f48bce2b705",
   "metadata": {},
   "outputs": [
    {
     "data": {
      "text/plain": [
       "{'a': 'some value', 'b': [1, 2, 3, 4], 7: 'an integer'}"
      ]
     },
     "execution_count": 121,
     "metadata": {},
     "output_type": "execute_result"
    }
   ],
   "source": [
    "d1[7] = \"an integer\"\n",
    "d1"
   ]
  },
  {
   "cell_type": "code",
   "execution_count": 122,
   "id": "0707c7a7-f924-41dc-a9e3-f7c27b36093e",
   "metadata": {},
   "outputs": [
    {
     "data": {
      "text/plain": [
       "{'a': 'some value', 'b': [1, 2, 3, 4], 7: 'an integer', 5: 'some value'}"
      ]
     },
     "execution_count": 122,
     "metadata": {},
     "output_type": "execute_result"
    }
   ],
   "source": [
    "d1[5] = \"some value\"\n",
    "d1"
   ]
  },
  {
   "cell_type": "code",
   "execution_count": 123,
   "id": "e2a3d0a7-a347-4deb-82b8-e300d4e27791",
   "metadata": {},
   "outputs": [
    {
     "data": {
      "text/plain": [
       "['a', 'b', 7, 5]"
      ]
     },
     "execution_count": 123,
     "metadata": {},
     "output_type": "execute_result"
    }
   ],
   "source": [
    "list(d1.keys())   # returns the keys of the dictionary d1 as a list"
   ]
  },
  {
   "cell_type": "code",
   "execution_count": 124,
   "id": "7cc1e267-cba1-4a4a-83d5-b3151e296b22",
   "metadata": {},
   "outputs": [
    {
     "data": {
      "text/plain": [
       "['some value', [1, 2, 3, 4], 'an integer', 'some value']"
      ]
     },
     "execution_count": 124,
     "metadata": {},
     "output_type": "execute_result"
    }
   ],
   "source": [
    "list(d1.values())     # returns the values of the dictionary d1 as a list"
   ]
  },
  {
   "cell_type": "code",
   "execution_count": 125,
   "id": "7e957ae2-4df8-4d36-9d5f-d48a25eb8dde",
   "metadata": {},
   "outputs": [
    {
     "data": {
      "text/plain": [
       "{0: 4, 1: 3, 2: 2, 3: 1, 4: 0}"
      ]
     },
     "execution_count": 125,
     "metadata": {},
     "output_type": "execute_result"
    }
   ],
   "source": [
    "tuples = zip(range(5), reversed(range(5)))\n",
    "dict(tuples)   # converts a tuples into a dictionary"
   ]
  },
  {
   "cell_type": "markdown",
   "id": "783a0d2a-d02e-4d24-a94e-8892a6f452ce",
   "metadata": {},
   "source": [
    "# Set"
   ]
  },
  {
   "cell_type": "code",
   "execution_count": 144,
   "id": "9a7ef04d-fe83-4af4-b04b-23a0b474b101",
   "metadata": {},
   "outputs": [
    {
     "data": {
      "text/plain": [
       "{1, 2, 3, 4, 5}"
      ]
     },
     "execution_count": 144,
     "metadata": {},
     "output_type": "execute_result"
    }
   ],
   "source": [
    "set([1,2,2,2,3,4,5,5])"
   ]
  },
  {
   "cell_type": "code",
   "execution_count": null,
   "id": "e513f788-b738-4133-b35b-f6875f4fc766",
   "metadata": {},
   "outputs": [],
   "source": [
    "a = {1, 2, 3, 4, 5}\n",
    "b = {3, 4, 5, 6, 7, 8}\n",
    "a.union(b)"
   ]
  },
  {
   "cell_type": "code",
   "execution_count": null,
   "id": "0ddd5676-956a-4ec2-98e2-fdda511894bd",
   "metadata": {},
   "outputs": [],
   "source": [
    "a | b       # same as above"
   ]
  },
  {
   "cell_type": "code",
   "execution_count": null,
   "id": "7b2b24eb-aef6-4a1e-bc8c-80bbb14cbfc8",
   "metadata": {},
   "outputs": [],
   "source": [
    "a.intersection(b)  # returns item in both a and b"
   ]
  },
  {
   "cell_type": "code",
   "execution_count": null,
   "id": "01bd0892-0044-4828-8251-2369e89b07fb",
   "metadata": {},
   "outputs": [],
   "source": [
    "a & b"
   ]
  },
  {
   "cell_type": "code",
   "execution_count": 132,
   "id": "78d312c6-03dd-4003-b992-503952919027",
   "metadata": {},
   "outputs": [
    {
     "data": {
      "text/plain": [
       "{(1, 2, 3, 4)}"
      ]
     },
     "execution_count": 132,
     "metadata": {},
     "output_type": "execute_result"
    }
   ],
   "source": [
    "my_data = [1, 2, 3, 4]\n",
    "my_set = {tuple(my_data)}\n",
    "my_set"
   ]
  },
  {
   "cell_type": "markdown",
   "id": "99bb0cca-42d6-4d53-8452-6684d7594d8f",
   "metadata": {},
   "source": [
    "# sorted"
   ]
  },
  {
   "cell_type": "code",
   "execution_count": null,
   "id": "bef40ef5-1d29-463a-bcbf-d60534ec2768",
   "metadata": {},
   "outputs": [],
   "source": [
    "sorted([7, 1, 2, 6, 0, 3, 2])   # returns a new sorted list from the elements of any sequence"
   ]
  },
  {
   "cell_type": "markdown",
   "id": "3ba0f801-15f5-48d8-b901-bd8dc0530a12",
   "metadata": {},
   "source": [
    "# Zip"
   ]
  },
  {
   "cell_type": "code",
   "execution_count": null,
   "id": "0f5ce7b5-8fa4-445f-906e-5a7a26102991",
   "metadata": {},
   "outputs": [],
   "source": [
    "seq1 = [\"foo\", \"bar\", \"baz\"]\n",
    "seq2 = [\"one\", \"two\", \"three\"]\n",
    "zipped = zip(seq1, seq2)\n",
    "list(zipped)"
   ]
  },
  {
   "cell_type": "markdown",
   "id": "eeaa6195-630e-447d-821c-b5da7bcb48c2",
   "metadata": {},
   "source": [
    "# Nested list comprehensions\n"
   ]
  },
  {
   "cell_type": "code",
   "execution_count": null,
   "id": "660bd852-bc14-4ad8-9328-ff6d16c669a5",
   "metadata": {},
   "outputs": [],
   "source": [
    "all_data = [[\"John\", \"Emily\", \"Michael\", \"Mary\", \"Steven\"],\n",
    "            [\"Maria\", \"Juan\", \"Javier\", \"Natalia\", \"Pilar\"]]\n",
    "\n",
    "res = []\n",
    "for names in all_data:\n",
    "    k = [name for name in names if name.count(\"a\") >= 2]\n",
    "    res.extend(k)\n",
    "res"
   ]
  },
  {
   "cell_type": "markdown",
   "id": "d34e0ee2-cefa-40a1-9dab-df1c007575a6",
   "metadata": {},
   "source": [
    "# Functions"
   ]
  },
  {
   "cell_type": "code",
   "execution_count": null,
   "id": "1300bab4-2882-4828-89be-4d1945724b1a",
   "metadata": {},
   "outputs": [],
   "source": [
    "def my_function(x, y):\n",
    "    return x + y\n",
    "my_function(1, 2)"
   ]
  },
  {
   "cell_type": "code",
   "execution_count": null,
   "id": "adc2bb32-fd25-4461-b881-02b263afc9a1",
   "metadata": {},
   "outputs": [],
   "source": [
    "def my_function2(x, y, z=1.5):\n",
    "    if z > 1:\n",
    "        return z * (x + y)\n",
    "    else:\n",
    "        return z / (x + y)\n",
    "\n",
    "my_function2(5, 6, z=0.7)"
   ]
  },
  {
   "cell_type": "code",
   "execution_count": null,
   "id": "2e02d3ed-002c-4d97-bee3-058c6dd8b9ee",
   "metadata": {},
   "outputs": [],
   "source": [
    "my_function2(10, 20)"
   ]
  },
  {
   "cell_type": "markdown",
   "id": "67b80c8a-3feb-41dc-9b6d-b383ee4602a8",
   "metadata": {},
   "source": [
    "# Namespaces, Scope, and Local Functions\n"
   ]
  },
  {
   "cell_type": "code",
   "execution_count": null,
   "id": "75f1a87e-e9ac-4123-8eb9-0934af1f0674",
   "metadata": {},
   "outputs": [],
   "source": [
    "a = []\n",
    "def func():\n",
    "    for i in range(5):\n",
    "        a.append(i)\n",
    "func()\n",
    "a"
   ]
  },
  {
   "cell_type": "code",
   "execution_count": null,
   "id": "7f4b3792-6a34-497c-8d1d-fae612710701",
   "metadata": {},
   "outputs": [],
   "source": [
    "def f():\n",
    "    a = 5\n",
    "    b = 6\n",
    "    c = 7\n",
    "    return {\"a\" : a, \"b\" : b, \"c\" : c}\n",
    "\n",
    "f()"
   ]
  },
  {
   "cell_type": "code",
   "execution_count": null,
   "id": "8a9d8072-352e-44ab-972b-3e2a99a78d44",
   "metadata": {},
   "outputs": [],
   "source": [
    "states = [\"   Alabama \", \"Georgia!\", \"Georgia\", \"georgia\", \"FlOrIda\", \n",
    "          \"south   carolina##\", \"West virginia?\"]\n",
    "import re\n",
    "\n",
    "def clean_strings(strings):\n",
    "    result = []\n",
    "    for value in strings:\n",
    "        value = value.strip()\n",
    "        value = re.sub(\"[!#?]\", \"\", value)\n",
    "        value = value.title()\n",
    "        result.append(value)\n",
    "    return result\n",
    "\n",
    "clean_strings(states)"
   ]
  },
  {
   "cell_type": "code",
   "execution_count": null,
   "id": "592b3f8e-29ec-4e30-9ea4-d0bab232bed1",
   "metadata": {},
   "outputs": [],
   "source": [
    "dict((i, i ** 2) for i in range(5))"
   ]
  },
  {
   "cell_type": "markdown",
   "id": "6de85ac2-a436-429b-9bb9-0390d21275f4",
   "metadata": {},
   "source": [
    "# Error Handling"
   ]
  },
  {
   "cell_type": "code",
   "execution_count": null,
   "id": "2bb5e525-03ea-4b10-9b80-ae6ad2fb0c4a",
   "metadata": {},
   "outputs": [],
   "source": [
    "def attempt_float(x):\n",
    "    try:\n",
    "        return float(x)\n",
    "    except:\n",
    "        return x\n",
    "attempt_float(\"1.2345\")"
   ]
  },
  {
   "cell_type": "code",
   "execution_count": null,
   "id": "48ed4e40-d3aa-4cc4-8bbe-69ce892de398",
   "metadata": {},
   "outputs": [],
   "source": [
    "attempt_float(\"something\")"
   ]
  },
  {
   "cell_type": "markdown",
   "id": "c7cdfa70-8743-4454-94c6-c60678a3b20c",
   "metadata": {},
   "source": [
    "# 3.3 Files and the Operating System"
   ]
  },
  {
   "cell_type": "code",
   "execution_count": 145,
   "id": "06ac152f-43fd-4ee6-81fc-cea1ef3fa085",
   "metadata": {},
   "outputs": [
    {
     "data": {
      "text/plain": [
       "[\"'The boy is coming'\"]"
      ]
     },
     "execution_count": 145,
     "metadata": {},
     "output_type": "execute_result"
    }
   ],
   "source": [
    "path = \"Pictures/segismundo.txt\"\n",
    "\n",
    "f = open(path, encoding=\"utf-8\")\n",
    "lines = [x.rstrip() for x in open(path, encoding=\"utf-8\")]\n",
    "lines"
   ]
<<<<<<< HEAD
=======
  },
  {
   "cell_type": "code",
   "execution_count": null,
   "id": "38dfe68c-7265-4066-8dd8-a90a887dd2f9",
   "metadata": {},
   "outputs": [],
   "source": []
>>>>>>> 54a2847b4ac1eccfb4b19a48a33725fc6d31bb4b
  }
 ],
 "metadata": {
  "kernelspec": {
   "display_name": "Python 3 (ipykernel)",
   "language": "python",
   "name": "python3"
  },
  "language_info": {
   "codemirror_mode": {
    "name": "ipython",
    "version": 3
   },
   "file_extension": ".py",
   "mimetype": "text/x-python",
   "name": "python",
   "nbconvert_exporter": "python",
   "pygments_lexer": "ipython3",
   "version": "3.12.7"
  }
 },
 "nbformat": 4,
 "nbformat_minor": 5
}
